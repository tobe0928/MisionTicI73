{
  "nbformat": 4,
  "nbformat_minor": 0,
  "metadata": {
    "colab": {
      "name": "scrapping.ipynb",
      "provenance": [],
      "collapsed_sections": [],
      "include_colab_link": true
    },
    "kernelspec": {
      "name": "python3",
      "display_name": "Python 3"
    },
    "language_info": {
      "name": "python"
    }
  },
  "cells": [
    {
      "cell_type": "markdown",
      "metadata": {
        "id": "view-in-github",
        "colab_type": "text"
      },
      "source": [
        "<a href=\"https://colab.research.google.com/github/tobe0928/MisionTicI73/blob/main/scrapping.ipynb\" target=\"_parent\"><img src=\"https://colab.research.google.com/assets/colab-badge.svg\" alt=\"Open In Colab\"/></a>"
      ]
    },
    {
      "cell_type": "code",
      "metadata": {
        "id": "vZz4fdlvRun0"
      },
      "source": [
        "import pandas as pd\n",
        "from bs4 import BeautifulSoup as bs\n",
        "import requests as re"
      ],
      "execution_count": null,
      "outputs": []
    },
    {
      "cell_type": "code",
      "metadata": {
        "id": "XAx02_zJSH6P"
      },
      "source": [
        "url = 'https://listado.mercadolibre.com.co/computador#D[A:computador]'\n",
        "page = re.get(url)\n",
        "soup = bs(page.content, 'html.parser')"
      ],
      "execution_count": null,
      "outputs": []
    },
    {
      "cell_type": "code",
      "metadata": {
        "id": "_Lmau8QvWbE3"
      },
      "source": [
        "pc = soup.find_all('h2', class_='ui-search-item__title')\n",
        "price = soup.find_all('span', class_='price-tag-fraction')"
      ],
      "execution_count": null,
      "outputs": []
    },
    {
      "cell_type": "code",
      "metadata": {
        "colab": {
          "base_uri": "https://localhost:8080/"
        },
        "id": "xN7K7CstW0VN",
        "outputId": "b0a01375-15bb-4d5f-8444-415d27ebdf8b"
      },
      "source": [
        "print(pc)\n",
        "print(price)"
      ],
      "execution_count": null,
      "outputs": [
        {
          "output_type": "stream",
          "text": [
            "[<h2 class=\"ui-search-item__title\">Audífonos gamer Kotion Each G9000 black y blue</h2>, <h2 class=\"ui-search-item__title\">Pc Torre Gamer Ryzen 3 3200g A320m Ssd 240gb Ram 8gb Mon 22 </h2>, <h2 class=\"ui-search-item__title\">Computador Portatil Asus Celeron 4gb 500gb 14puLG</h2>, <h2 class=\"ui-search-item__title\">Pc Equipo Torre Gamer Ryzen 5 3400g B450m Ssd 240gb Ram 16gb</h2>, <h2 class=\"ui-search-item__title\">Computador Portátil Hp Hewlett Packard Cpu Amd/ 4gb/1tb </h2>, <h2 class=\"ui-search-item__title\">Equipo Torre Intel Core I5 Disco 1000gb Ram 8gb Monitor 22 </h2>, <h2 class=\"ui-search-item__title\">Todo En Uno Aio Hp 20-c412la Intel Celeron Ram 4gb 1tb 19.5 </h2>, <h2 class=\"ui-search-item__title\">Pc Torre Gamer Amd Ryzen 3 3200g Ssd 240gb Ram 8gb Mon 22 </h2>, <h2 class=\"ui-search-item__title\">Computador Portátil Acer, Core I5, Ram8gb/256gb Ssd 15.6 </h2>, <h2 class=\"ui-search-item__title\">Pc Gamer Amd Ryzen 5 Disc Ssd 240 + 1tb Ram 16gb Monitor 22</h2>, <h2 class=\"ui-search-item__title\">Computador Portátil Asus Core I3 10ma 256gb Ssd 8gb W10</h2>, <h2 class=\"ui-search-item__title\">Cable Utp Categoría 6 Gigabit Red Internet Ponchado X Metro</h2>, <h2 class=\"ui-search-item__title\">Pc Torre Gamer Fnatic Ryzen 5 3400g B450m Ssd 240gb Ram 16gb</h2>, <h2 class=\"ui-search-item__title\">Todo En Uno Aio Lenovo Ideacentre 3 Athlon 4gb 1tb Windows</h2>, <h2 class=\"ui-search-item__title\">Computador Gamer Amd Ryzen 3 3200g Ssd 240gb Ram 16gb Mon 22</h2>, <h2 class=\"ui-search-item__title\">Computador Portatil Lenovo 14 N4000 Ram 4 Gb, 500 Gb Envio G</h2>, <h2 class=\"ui-search-item__title\">Sistema Pos Completo Equipos + Gratis Programa Facturacion</h2>, <h2 class=\"ui-search-item__title\">Computador Portatil Asus Intel Celeron 4gb 64gb 14   Win 10 </h2>, <h2 class=\"ui-search-item__title\">Pc Torre Gamer Intel Ci5 9400f B365 Ssd 240g Ram 8gb Mon 22 </h2>, <h2 class=\"ui-search-item__title\">Cámara Web Genius Facecam 1000x Webcam Hd 720p, Chat / Skype</h2>, <h2 class=\"ui-search-item__title\">Computador Portatil Asus Celeron 4gb 500gb  14puLG </h2>, <h2 class=\"ui-search-item__title\">Pc Torre Gamer Amd Ryzen 5 3600 M.2 512gb Ram16gb Nvidia 2gb</h2>, <h2 class=\"ui-search-item__title\">Audifono Diadema Cascos  Gamer Pro2 Para Ps4 Y Xbox One</h2>, <h2 class=\"ui-search-item__title\">Torre Gamer Ryzen 5 3400g, 16gb Ram Blindada, Disco 1000gb</h2>, <h2 class=\"ui-search-item__title\">Computador Portátil Asus, Intel Celeron 1tb, 4 Ram</h2>, <h2 class=\"ui-search-item__title\">Servidor Dell Power Edge T40 Intel Xeon 3.5 Ghz 16g 1tb </h2>, <h2 class=\"ui-search-item__title\">Todo En Uno Hp Memoria Ram 8gb Disco Duro 1tb Pantalla 19.5 </h2>, <h2 class=\"ui-search-item__title\">Computador Portatil Lenovo Core I3 10 Gen 4gb 1t</h2>, <h2 class=\"ui-search-item__title\">Pc Torre Equipo Gamer Ryzen 5 3400g B450m Ssd 480gb Ram 8gb</h2>, <h2 class=\"ui-search-item__title\">Pc Torre Gamer Intel Ci5 9400f H310m Ssd 240g Ram8gb Vid 2gb</h2>, <h2 class=\"ui-search-item__title\">Computador Portatil Amd A8, Ram 4gb, Disco 500gb, 14 </h2>, <h2 class=\"ui-search-item__title\">Pc Torre Equipo Gamer Ryzen 5 3400g B450m Ssd 240gb Ram 8gb </h2>, <h2 class=\"ui-search-item__title\">Caddy Adaptador Segundo Disco Duro Sata Ssd Cd Dvd 9.5mm</h2>, <h2 class=\"ui-search-item__title\">Computador Portatil Hp Amd A8 4 Nucleos, 8gb, 500gb, 14 </h2>, <h2 class=\"ui-search-item__title\">Pc Torre Gamer Amd Ryzen 3 3200g Ssd 240gb+1tb Ram 8gb Mon22</h2>, <h2 class=\"ui-search-item__title\">Pasta Térmica Disipadora Arctic Mx-4 4g Original Sellada</h2>, <h2 class=\"ui-search-item__title\">Computador Gamer Cpu Ryzen 3 3200g Vega 8 Ssd 240 8gb </h2>, <h2 class=\"ui-search-item__title\">Computador Portatil Asus Celeron 4gb 500gb 14puLG</h2>, <h2 class=\"ui-search-item__title\">Servidor Dell Power Edge T40 Intel Xeon 3.5 Ghz 8g 1tb</h2>, <h2 class=\"ui-search-item__title\">All In One Asus M241dak-ba190t Ryzen5 12gb 1tb 23,8  Fhd W10</h2>, <h2 class=\"ui-search-item__title\">Computador Portátil Hp 14-ck2095la 14 Intel Celeron 4gb Ram </h2>, <h2 class=\"ui-search-item__title\">Equipo Torre Amd Ryzen 3 3200g Disc 1000 Ram 16gb Monitor 22</h2>, <h2 class=\"ui-search-item__title\">Sistema Pos Facturacion Inventarios Completo Tipo Solido </h2>, <h2 class=\"ui-search-item__title\">Computador Portátil Apple Segunda Macbook Air I7 8gb 500 Ssd</h2>, <h2 class=\"ui-search-item__title\">Mouse Vertical 5 D Inalámbrico Ergonómico Recargable Negro</h2>, <h2 class=\"ui-search-item__title\">Torre Cpu Gamer Ryzen 3 3200g Vega 8 1tb 8gb Pc</h2>, <h2 class=\"ui-search-item__title\">Computador Hp 245 G7 4gb 1tb W10</h2>, <h2 class=\"ui-search-item__title\">Torre Gamer Amd Ryzen 5 3400g B450m Disco 1000gb Ram 8gb W10</h2>, <h2 class=\"ui-search-item__title\">Cable Utp Cat 6 Gigabit Internet Exterior Ponchado X Metros</h2>, <h2 class=\"ui-search-item__title\">Sistema Pos Facturacion Inventarios Registradora Tactil </h2>]\n",
            "[<span class=\"price-tag-fraction\">55.600</span>, <span class=\"price-tag-fraction\">1.544</span>, <span class=\"price-tag-fraction\">1.999.000</span>, <span class=\"price-tag-fraction\">55.528</span>, <span class=\"price-tag-fraction\">1.419.900</span>, <span class=\"price-tag-fraction\">39.442</span>, <span class=\"price-tag-fraction\">3.049.000</span>, <span class=\"price-tag-fraction\">84.694</span>, <span class=\"price-tag-fraction\">1.579.900</span>, <span class=\"price-tag-fraction\">43.886</span>, <span class=\"price-tag-fraction\">2.199.000</span>, <span class=\"price-tag-fraction\">61.083</span>, <span class=\"price-tag-fraction\">1.239.000</span>, <span class=\"price-tag-fraction\">1.159.900</span>, <span class=\"price-tag-fraction\">32.219</span>, <span class=\"price-tag-fraction\">1.999.000</span>, <span class=\"price-tag-fraction\">55.528</span>, <span class=\"price-tag-fraction\">2.399.900</span>, <span class=\"price-tag-fraction\">66.664</span>, <span class=\"price-tag-fraction\">3.199.000</span>, <span class=\"price-tag-fraction\">88.861</span>, <span class=\"price-tag-fraction\">1.999.900</span>, <span class=\"price-tag-fraction\">55.553</span>, <span class=\"price-tag-fraction\">1.200</span>, <span class=\"price-tag-fraction\">33</span>, <span class=\"price-tag-fraction\">3.049.000</span>, <span class=\"price-tag-fraction\">84.694</span>, <span class=\"price-tag-fraction\">1.999.900</span>, <span class=\"price-tag-fraction\">1.564.900</span>, <span class=\"price-tag-fraction\">43.469</span>, <span class=\"price-tag-fraction\">2.199.000</span>, <span class=\"price-tag-fraction\">61.083</span>, <span class=\"price-tag-fraction\">1.549.900</span>, <span class=\"price-tag-fraction\">43.053</span>, <span class=\"price-tag-fraction\">1.150.000</span>, <span class=\"price-tag-fraction\">31.944</span>, <span class=\"price-tag-fraction\">1.189.900</span>, <span class=\"price-tag-fraction\">33.053</span>, <span class=\"price-tag-fraction\">2.499.000</span>, <span class=\"price-tag-fraction\">69.417</span>, <span class=\"price-tag-fraction\">124.900</span>, <span class=\"price-tag-fraction\">84.900</span>, <span class=\"price-tag-fraction\">2.358</span>, <span class=\"price-tag-fraction\">1.398.900</span>, <span class=\"price-tag-fraction\">38.858</span>, <span class=\"price-tag-fraction\">3.199.000</span>, <span class=\"price-tag-fraction\">88.861</span>, <span class=\"price-tag-fraction\">58.822</span>, <span class=\"price-tag-fraction\">1.634</span>, <span class=\"price-tag-fraction\">2.240.000</span>, <span class=\"price-tag-fraction\">62.222</span>, <span class=\"price-tag-fraction\">1.759.886</span>, <span class=\"price-tag-fraction\">48.886</span>, <span class=\"price-tag-fraction\">2.999.999</span>, <span class=\"price-tag-fraction\">83.333</span>, <span class=\"price-tag-fraction\">1.539.900</span>, <span class=\"price-tag-fraction\">42.775</span>, <span class=\"price-tag-fraction\">2.099.900</span>, <span class=\"price-tag-fraction\">58.331</span>, <span class=\"price-tag-fraction\">2.849.000</span>, <span class=\"price-tag-fraction\">79.139</span>, <span class=\"price-tag-fraction\">2.499.000</span>, <span class=\"price-tag-fraction\">69.417</span>, <span class=\"price-tag-fraction\">1.499.000</span>, <span class=\"price-tag-fraction\">1.299.000</span>, <span class=\"price-tag-fraction\">36.083</span>, <span class=\"price-tag-fraction\">2.749.000</span>, <span class=\"price-tag-fraction\">76.361</span>, <span class=\"price-tag-fraction\">10.400</span>, <span class=\"price-tag-fraction\">288</span>, <span class=\"price-tag-fraction\">1.580.000</span>, <span class=\"price-tag-fraction\">1.399.000</span>, <span class=\"price-tag-fraction\">38.861</span>, <span class=\"price-tag-fraction\">2.179.900</span>, <span class=\"price-tag-fraction\">60.553</span>, <span class=\"price-tag-fraction\">28.990</span>, <span class=\"price-tag-fraction\">2.416</span>, <span class=\"price-tag-fraction\">1.795.000</span>, <span class=\"price-tag-fraction\">49.861</span>, <span class=\"price-tag-fraction\">1.420.000</span>, <span class=\"price-tag-fraction\">39.444</span>, <span class=\"price-tag-fraction\">2.599.900</span>, <span class=\"price-tag-fraction\">72.219</span>, <span class=\"price-tag-fraction\">2.399.800</span>, <span class=\"price-tag-fraction\">66.661</span>, <span class=\"price-tag-fraction\">1.399.900</span>, <span class=\"price-tag-fraction\">38.886</span>, <span class=\"price-tag-fraction\">2.249.000</span>, <span class=\"price-tag-fraction\">62.472</span>, <span class=\"price-tag-fraction\">1.450.000</span>, <span class=\"price-tag-fraction\">40.278</span>, <span class=\"price-tag-fraction\">3.349.900</span>, <span class=\"price-tag-fraction\">93.053</span>, <span class=\"price-tag-fraction\">29.800</span>, <span class=\"price-tag-fraction\">827</span>, <span class=\"price-tag-fraction\">1.799.900</span>, <span class=\"price-tag-fraction\">49.997</span>, <span class=\"price-tag-fraction\">1.600.000</span>, <span class=\"price-tag-fraction\">44.444</span>, <span class=\"price-tag-fraction\">2.299.000</span>, <span class=\"price-tag-fraction\">63.861</span>, <span class=\"price-tag-fraction\">1.300</span>, <span class=\"price-tag-fraction\">36</span>, <span class=\"price-tag-fraction\">2.495.000</span>, <span class=\"price-tag-fraction\">69.306</span>]\n"
          ],
          "name": "stdout"
        }
      ]
    },
    {
      "cell_type": "code",
      "metadata": {
        "id": "0_VdkhrOYcOU"
      },
      "source": [
        "computadores = list()\n",
        "precios = list()\n",
        "count=0\n",
        "count1=0\n",
        "for i in pc:\n",
        "  if count < 20:\n",
        "   computadores.append(i.text)\n",
        "  else:\n",
        "    break\n",
        "  count +=1\n",
        "\n",
        "for j in price:\n",
        "  if count1 < 20:\n",
        "    precios.append(j.text)\n",
        "  else:\n",
        "    break\n",
        "  count1 +=1\n",
        "\n",
        "\n",
        "largo = len(computadores)\n",
        "largo = len(computadores)\n",
        "\n"
      ],
      "execution_count": null,
      "outputs": []
    },
    {
      "cell_type": "code",
      "metadata": {
        "colab": {
          "base_uri": "https://localhost:8080/"
        },
        "id": "Nl6ErgTNZalE",
        "outputId": "5fb0d95e-fe8f-4284-e6b6-da170b3409dd"
      },
      "source": [
        "print(computadores)\n",
        "print(precios)\n",
        "\n",
        "print(largo)"
      ],
      "execution_count": null,
      "outputs": [
        {
          "output_type": "stream",
          "text": [
            "['Audífonos gamer Kotion Each G9000 black y blue', 'Pc Torre Gamer Ryzen 3 3200g A320m Ssd 240gb Ram 8gb Mon 22 ', 'Computador Portatil Asus Celeron 4gb 500gb 14puLG', 'Pc Equipo Torre Gamer Ryzen 5 3400g B450m Ssd 240gb Ram 16gb', 'Computador Portátil Hp Hewlett Packard Cpu Amd/ 4gb/1tb ', 'Equipo Torre Intel Core I5 Disco 1000gb Ram 8gb Monitor 22 ', 'Todo En Uno Aio Hp 20-c412la Intel Celeron Ram 4gb 1tb 19.5 ', 'Pc Torre Gamer Amd Ryzen 3 3200g Ssd 240gb Ram 8gb Mon 22 ', 'Computador Portátil Acer, Core I5, Ram8gb/256gb Ssd 15.6 ', 'Pc Gamer Amd Ryzen 5 Disc Ssd 240 + 1tb Ram 16gb Monitor 22', 'Computador Portátil Asus Core I3 10ma 256gb Ssd 8gb W10', 'Cable Utp Categoría 6 Gigabit Red Internet Ponchado X Metro', 'Pc Torre Gamer Fnatic Ryzen 5 3400g B450m Ssd 240gb Ram 16gb', 'Todo En Uno Aio Lenovo Ideacentre 3 Athlon 4gb 1tb Windows', 'Computador Gamer Amd Ryzen 3 3200g Ssd 240gb Ram 16gb Mon 22', 'Computador Portatil Lenovo 14 N4000 Ram 4 Gb, 500 Gb Envio G', 'Sistema Pos Completo Equipos + Gratis Programa Facturacion', 'Computador Portatil Asus Intel Celeron 4gb 64gb 14   Win 10 ', 'Pc Torre Gamer Intel Ci5 9400f B365 Ssd 240g Ram 8gb Mon 22 ', 'Cámara Web Genius Facecam 1000x Webcam Hd 720p, Chat / Skype']\n",
            "['55.600', '1.544', '1.999.000', '55.528', '1.419.900', '39.442', '3.049.000', '84.694', '1.579.900', '43.886', '2.199.000', '61.083', '1.239.000', '1.159.900', '32.219', '1.999.000', '55.528', '2.399.900', '66.664', '3.199.000']\n",
            "20\n"
          ],
          "name": "stdout"
        }
      ]
    },
    {
      "cell_type": "code",
      "metadata": {
        "colab": {
          "base_uri": "https://localhost:8080/"
        },
        "id": "DVz0aOu4cz3O",
        "outputId": "51af045f-1435-47e8-d4f6-8457f5c06357"
      },
      "source": [
        "d= {'Nombre_Prod': computadores, 'Precio': precios}\n",
        "df= pd.DataFrame(d)\n",
        "print(df)"
      ],
      "execution_count": null,
      "outputs": [
        {
          "output_type": "stream",
          "text": [
            "                                          Nombre_Prod     Precio\n",
            "0      Audífonos gamer Kotion Each G9000 black y blue     55.600\n",
            "1   Pc Torre Gamer Ryzen 3 3200g A320m Ssd 240gb R...      1.544\n",
            "2   Computador Portatil Asus Celeron 4gb 500gb 14puLG  1.999.000\n",
            "3   Pc Equipo Torre Gamer Ryzen 5 3400g B450m Ssd ...     55.528\n",
            "4   Computador Portátil Hp Hewlett Packard Cpu Amd...  1.419.900\n",
            "5   Equipo Torre Intel Core I5 Disco 1000gb Ram 8g...     39.442\n",
            "6   Todo En Uno Aio Hp 20-c412la Intel Celeron Ram...  3.049.000\n",
            "7   Pc Torre Gamer Amd Ryzen 3 3200g Ssd 240gb Ram...     84.694\n",
            "8   Computador Portátil Acer, Core I5, Ram8gb/256g...  1.579.900\n",
            "9   Pc Gamer Amd Ryzen 5 Disc Ssd 240 + 1tb Ram 16...     43.886\n",
            "10  Computador Portátil Asus Core I3 10ma 256gb Ss...  2.199.000\n",
            "11  Cable Utp Categoría 6 Gigabit Red Internet Pon...     61.083\n",
            "12  Pc Torre Gamer Fnatic Ryzen 5 3400g B450m Ssd ...  1.239.000\n",
            "13  Todo En Uno Aio Lenovo Ideacentre 3 Athlon 4gb...  1.159.900\n",
            "14  Computador Gamer Amd Ryzen 3 3200g Ssd 240gb R...     32.219\n",
            "15  Computador Portatil Lenovo 14 N4000 Ram 4 Gb, ...  1.999.000\n",
            "16  Sistema Pos Completo Equipos + Gratis Programa...     55.528\n",
            "17  Computador Portatil Asus Intel Celeron 4gb 64g...  2.399.900\n",
            "18  Pc Torre Gamer Intel Ci5 9400f B365 Ssd 240g R...     66.664\n",
            "19  Cámara Web Genius Facecam 1000x Webcam Hd 720p...  3.199.000\n"
          ],
          "name": "stdout"
        }
      ]
    },
    {
      "cell_type": "code",
      "metadata": {
        "colab": {
          "base_uri": "https://localhost:8080/",
          "height": 17
        },
        "id": "rnYhKMbhnbXo",
        "outputId": "c6fd7445-2c3b-452f-b38e-f309f7dc829e"
      },
      "source": [
        "from google.colab import files\n",
        "df.to_csv(\"computadores.csv\")\n",
        "files.download(\"computadores.csv\")"
      ],
      "execution_count": null,
      "outputs": [
        {
          "output_type": "display_data",
          "data": {
            "application/javascript": [
              "\n",
              "    async function download(id, filename, size) {\n",
              "      if (!google.colab.kernel.accessAllowed) {\n",
              "        return;\n",
              "      }\n",
              "      const div = document.createElement('div');\n",
              "      const label = document.createElement('label');\n",
              "      label.textContent = `Downloading \"${filename}\": `;\n",
              "      div.appendChild(label);\n",
              "      const progress = document.createElement('progress');\n",
              "      progress.max = size;\n",
              "      div.appendChild(progress);\n",
              "      document.body.appendChild(div);\n",
              "\n",
              "      const buffers = [];\n",
              "      let downloaded = 0;\n",
              "\n",
              "      const channel = await google.colab.kernel.comms.open(id);\n",
              "      // Send a message to notify the kernel that we're ready.\n",
              "      channel.send({})\n",
              "\n",
              "      for await (const message of channel.messages) {\n",
              "        // Send a message to notify the kernel that we're ready.\n",
              "        channel.send({})\n",
              "        if (message.buffers) {\n",
              "          for (const buffer of message.buffers) {\n",
              "            buffers.push(buffer);\n",
              "            downloaded += buffer.byteLength;\n",
              "            progress.value = downloaded;\n",
              "          }\n",
              "        }\n",
              "      }\n",
              "      const blob = new Blob(buffers, {type: 'application/binary'});\n",
              "      const a = document.createElement('a');\n",
              "      a.href = window.URL.createObjectURL(blob);\n",
              "      a.download = filename;\n",
              "      div.appendChild(a);\n",
              "      a.click();\n",
              "      div.remove();\n",
              "    }\n",
              "  "
            ],
            "text/plain": [
              "<IPython.core.display.Javascript object>"
            ]
          },
          "metadata": {
            "tags": []
          }
        },
        {
          "output_type": "display_data",
          "data": {
            "application/javascript": [
              "download(\"download_ab7f0379-936a-4f8e-80f5-5ceee7cc141f\", \"computadores.csv\", 1425)"
            ],
            "text/plain": [
              "<IPython.core.display.Javascript object>"
            ]
          },
          "metadata": {
            "tags": []
          }
        }
      ]
    },
    {
      "cell_type": "code",
      "metadata": {
        "colab": {
          "base_uri": "https://localhost:8080/",
          "height": 255
        },
        "id": "fL6r9lm-p8wA",
        "outputId": "4fadcc45-79b9-4430-d2e1-fa388251c0dd"
      },
      "source": [
        "json = 'https://jsonplaceholder.typicode.com/posts'\n",
        "page = re.get(json)\n",
        "df1=pd.read_json(json)\n",
        "print(df1)\n",
        "df.to_csv(\"json.csv\")\n",
        "files.download(\"json.csv\")"
      ],
      "execution_count": null,
      "outputs": [
        {
          "output_type": "stream",
          "text": [
            "    userId  ...                                               body\n",
            "0        1  ...  quia et suscipit\\nsuscipit recusandae consequu...\n",
            "1        1  ...  est rerum tempore vitae\\nsequi sint nihil repr...\n",
            "2        1  ...  et iusto sed quo iure\\nvoluptatem occaecati om...\n",
            "3        1  ...  ullam et saepe reiciendis voluptatem adipisci\\...\n",
            "4        1  ...  repudiandae veniam quaerat sunt sed\\nalias aut...\n",
            "..     ...  ...                                                ...\n",
            "95      10  ...  in non odio excepturi sint eum\\nlabore volupta...\n",
            "96      10  ...  eum non blanditiis soluta porro quibusdam volu...\n",
            "97      10  ...  doloremque ex facilis sit sint culpa\\nsoluta a...\n",
            "98      10  ...  quo deleniti praesentium dicta non quod\\naut e...\n",
            "99      10  ...  cupiditate quo est a modi nesciunt soluta\\nips...\n",
            "\n",
            "[100 rows x 4 columns]\n"
          ],
          "name": "stdout"
        },
        {
          "output_type": "display_data",
          "data": {
            "application/javascript": [
              "\n",
              "    async function download(id, filename, size) {\n",
              "      if (!google.colab.kernel.accessAllowed) {\n",
              "        return;\n",
              "      }\n",
              "      const div = document.createElement('div');\n",
              "      const label = document.createElement('label');\n",
              "      label.textContent = `Downloading \"${filename}\": `;\n",
              "      div.appendChild(label);\n",
              "      const progress = document.createElement('progress');\n",
              "      progress.max = size;\n",
              "      div.appendChild(progress);\n",
              "      document.body.appendChild(div);\n",
              "\n",
              "      const buffers = [];\n",
              "      let downloaded = 0;\n",
              "\n",
              "      const channel = await google.colab.kernel.comms.open(id);\n",
              "      // Send a message to notify the kernel that we're ready.\n",
              "      channel.send({})\n",
              "\n",
              "      for await (const message of channel.messages) {\n",
              "        // Send a message to notify the kernel that we're ready.\n",
              "        channel.send({})\n",
              "        if (message.buffers) {\n",
              "          for (const buffer of message.buffers) {\n",
              "            buffers.push(buffer);\n",
              "            downloaded += buffer.byteLength;\n",
              "            progress.value = downloaded;\n",
              "          }\n",
              "        }\n",
              "      }\n",
              "      const blob = new Blob(buffers, {type: 'application/binary'});\n",
              "      const a = document.createElement('a');\n",
              "      a.href = window.URL.createObjectURL(blob);\n",
              "      a.download = filename;\n",
              "      div.appendChild(a);\n",
              "      a.click();\n",
              "      div.remove();\n",
              "    }\n",
              "  "
            ],
            "text/plain": [
              "<IPython.core.display.Javascript object>"
            ]
          },
          "metadata": {
            "tags": []
          }
        },
        {
          "output_type": "display_data",
          "data": {
            "application/javascript": [
              "download(\"download_2764aea5-43c7-409f-aced-c1604adb0129\", \"json.csv\", 21230)"
            ],
            "text/plain": [
              "<IPython.core.display.Javascript object>"
            ]
          },
          "metadata": {
            "tags": []
          }
        }
      ]
    }
  ]
}