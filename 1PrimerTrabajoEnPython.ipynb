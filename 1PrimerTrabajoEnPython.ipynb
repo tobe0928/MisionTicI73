{
  "nbformat": 4,
  "nbformat_minor": 0,
  "metadata": {
    "colab": {
      "name": "1PrimerTrabajoEnPython.ipynb",
      "provenance": [],
      "collapsed_sections": [],
      "authorship_tag": "ABX9TyNCEQ/hcrCMV94mTkR4tiZA",
      "include_colab_link": true
    },
    "kernelspec": {
      "name": "python3",
      "display_name": "Python 3"
    },
    "language_info": {
      "name": "python"
    }
  },
  "cells": [
    {
      "cell_type": "markdown",
      "metadata": {
        "id": "view-in-github",
        "colab_type": "text"
      },
      "source": [
        "<a href=\"https://colab.research.google.com/github/tobe0928/MisionTicI73/blob/main/1PrimerTrabajoEnPython.ipynb\" target=\"_parent\"><img src=\"https://colab.research.google.com/assets/colab-badge.svg\" alt=\"Open In Colab\"/></a>"
      ]
    },
    {
      "cell_type": "code",
      "metadata": {
        "id": "vc3ViVa3dgv_"
      },
      "source": [
        "import random"
      ],
      "execution_count": 10,
      "outputs": []
    },
    {
      "cell_type": "code",
      "metadata": {
        "colab": {
          "base_uri": "https://localhost:8080/"
        },
        "id": "vR6qQ9QCiH5C",
        "outputId": "dfb32263-e926-4c05-88b3-53c1191bd211"
      },
      "source": [
        "LAMBETAZO = [\"QUERIDOS \",\"APRECIADOS \",\"DISTINGUIDOS \",\"HONORABLES \",\"ESTIMADOS \",\"RESPETADOS \"]\n",
        "POTENCIALES_MAR = [\"COMPATRIOTAS \",\"CONCIUDADANOS \",\"AMIGOS \",\"COTERRANEOS \",\"COPARTIDARIOS \",\"ELECTORES \"]\n",
        "CONDICION = [\"EN MI GOBIERNO \",\"CON SU APOYO \",\"SIENDO ELEGIDO \",\"CON SU AYUDA \",\"SI ME SIGUEN \",\"DURANTE MI MANDATO \"]\n",
        "COMPROMISO = [\"VOY A DERROTAR \",\"VENCERÉ \",\"ELIMINARÉ \",\"ACABARÉ \",\"LUCHARÉ CONTRA\",\"COMBATIRÉ \"]\n",
        "ILUSION_GUER = [\"LA VIOLENCIA Y\t\", \"LA DELINCUENCIA Y \",\"LA CORRUPCIÓN Y \",\"LA INFLACIÓN Y \",\"LA POBREZA Y \",\"EL DESPLAZAMIENTO Y \"]\n",
        "PROMESA = [\"\tTRABAJARÉ POR \",\"GARANTIZARÉ \",\"PROTEGERÉ \",\"VELARÉ POR \",\"PROMOVERÉ \",\"DEFENDERÉ \"]\n",
        "BENEFICIO_POPU\t= [\"LA EDUCACIÓN \",\"EL EMPLEO \",\"LA SEGURIDAD \",\"LA PAZ \",\"LA IGUALDAD \",\"LA SALUD \"]\n",
        "DEPCANTIDAD_VOTOS = [\"DEL PAÍS \",\"DE LA CIUDAD \",\"DE LA COMUNIDAD \",\"DE LA POBLACIÓN \",\"PARA TODA LA GENTE \",\"DE CADA COLOMBIANO \"]\n",
        "\n",
        "LAMBETAZO_SELEC = random.choice(LAMBETAZO)\n",
        "POTENCIALES_MAR_SELEC = random.choice(POTENCIALES_MAR)\n",
        "CONDICION_SELEC = random.choice(CONDICION)\n",
        "COMPROMISO_SELEC = random.choice(COMPROMISO)\n",
        "ILUSION_GUER_SELEC = random.choice(ILUSION_GUER)\n",
        "PROMESA_SELEC = random.choice(PROMESA)\n",
        "BENEFICIO_POPU_SELEC = random.choice(BENEFICIO_POPU)\n",
        "DEPCANTIDAD_VOTOS_SELEC = random.choice(DEPCANTIDAD_VOTOS)\n",
        "\n",
        "print(\"Frase generada: \" + LAMBETAZO_SELEC  + POTENCIALES_MAR_SELEC + CONDICION_SELEC  + COMPROMISO_SELEC\n",
        "      + ILUSION_GUER_SELEC + PROMESA_SELEC + BENEFICIO_POPU_SELEC + DEPCANTIDAD_VOTOS_SELEC )\n"
      ],
      "execution_count": 11,
      "outputs": [
        {
          "output_type": "stream",
          "text": [
            "Frase generada: APRECIADOS COPARTIDARIOS CON SU APOYO VENCERÉ EL DESPLAZAMIENTO Y PROTEGERÉ LA EDUCACIÓN PARA TODA LA GENTE \n"
          ],
          "name": "stdout"
        }
      ]
    }
  ]
}